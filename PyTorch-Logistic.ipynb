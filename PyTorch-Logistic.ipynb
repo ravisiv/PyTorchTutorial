{
 "cells": [
  {
   "cell_type": "markdown",
   "id": "06f6617b",
   "metadata": {},
   "source": [
    "## Reference Tutorial from: https://www.youtube.com/watch?v=OGpQxIkR4ao"
   ]
  },
  {
   "cell_type": "code",
   "execution_count": 101,
   "id": "68c3df73",
   "metadata": {},
   "outputs": [],
   "source": [
    "import torch\n",
    "import torch.nn as nn\n",
    "import numpy as np\n",
    "\n",
    "from sklearn import datasets\n",
    "import matplotlib.pyplot as plt\n",
    "\n",
    "import numpy as np\n",
    "import matplotlib.pyplot as plt\n",
    "import torch\n",
    "from torch.utils.data import Dataset, DataLoader\n",
    "import torch.nn as nn\n",
    "import torch.nn.functional as F\n",
    "import seaborn as sns"
   ]
  },
  {
   "cell_type": "code",
   "execution_count": 102,
   "id": "340e9357",
   "metadata": {},
   "outputs": [],
   "source": [
    "import warnings\n",
    "warnings.filterwarnings('ignore')"
   ]
  },
  {
   "cell_type": "code",
   "execution_count": 103,
   "id": "e2dfb50f",
   "metadata": {},
   "outputs": [],
   "source": [
    "SEED = 1239\n",
    "torch.manual_seed(SEED)\n",
    "\n",
    "if torch.backends.mps.is_available():\n",
    "    torch.cuda.manual_seed(SEED)  #will it work?\n",
    "\n",
    "    \n",
    "np.random.seed(SEED)"
   ]
  },
  {
   "cell_type": "code",
   "execution_count": 109,
   "id": "92d28cb5",
   "metadata": {},
   "outputs": [
    {
     "name": "stdout",
     "output_type": "stream",
     "text": [
      "569 30\n"
     ]
    }
   ],
   "source": [
    "from sklearn.datasets import load_breast_cancer\n",
    "\n",
    "bc_data = load_breast_cancer()\n",
    "\n",
    "X,y = bc_data.data, bc_data.target\n",
    "\n",
    "n_samples, n_features = X.shape\n",
    "print(n_samples, n_features)\n"
   ]
  },
  {
   "cell_type": "code",
   "execution_count": 123,
   "id": "2748747c",
   "metadata": {},
   "outputs": [],
   "source": [
    "from sklearn.model_selection import train_test_split\n",
    "\n",
    "X_train, X_test, y_train, y_test = train_test_split(X,y, test_size=0.2, random_state=SEED)"
   ]
  },
  {
   "cell_type": "code",
   "execution_count": 124,
   "id": "78f8e280",
   "metadata": {},
   "outputs": [],
   "source": [
    "from sklearn.preprocessing import StandardScaler\n",
    "\n",
    "scaler = StandardScaler()\n",
    "X_train = scaler.fit_transform(X_train,y)\n",
    "X_test = scaler.transform(X_test)\n"
   ]
  },
  {
   "cell_type": "code",
   "execution_count": 125,
   "id": "ec301037",
   "metadata": {},
   "outputs": [],
   "source": [
    "X_train = torch.from_numpy(X_train.astype(np.float32))\n",
    "X_test = torch.from_numpy(X_test.astype(np.float32))\n",
    "y_train = torch.from_numpy(y_train.astype(np.float32))\n",
    "y_test = torch.from_numpy(y_test.astype(np.float32))"
   ]
  },
  {
   "cell_type": "code",
   "execution_count": 126,
   "id": "3c36b910",
   "metadata": {},
   "outputs": [],
   "source": [
    "#Reshape\n",
    "y_train = y_train.view(y_train.shape[0],1)\n",
    "y_test = y_test.view(y_test.shape[0],1)"
   ]
  },
  {
   "cell_type": "code",
   "execution_count": 127,
   "id": "66760762",
   "metadata": {},
   "outputs": [],
   "source": [
    "class LogisticRegression(nn.Module):\n",
    "    def __init__(self, n_input_features):\n",
    "        super(LogisticRegression, self).__init__()\n",
    "        self.linear = nn.Linear(n_input_features,1)\n",
    "        \n",
    "    def forward(self, x):\n",
    "        y_predicted = torch.sigmoid(self.linear(x))\n",
    "        return y_predicted\n",
    "    \n",
    "\n"
   ]
  },
  {
   "cell_type": "code",
   "execution_count": 129,
   "id": "6f955354",
   "metadata": {},
   "outputs": [],
   "source": [
    "model = LogisticRegression(n_features)\n",
    "learning_rate = 0.01\n",
    "\n",
    "criterion = nn.BCELoss()\n",
    "optimizer = torch.optim.SGD(model.parameters(), lr=learning_rate)\n",
    "\n"
   ]
  },
  {
   "cell_type": "code",
   "execution_count": 135,
   "id": "2f775cd0",
   "metadata": {},
   "outputs": [
    {
     "name": "stdout",
     "output_type": "stream",
     "text": [
      "epoch= 0, loss= 0.1094\n",
      "epoch= 10, loss= 0.1090\n",
      "epoch= 20, loss= 0.1085\n",
      "epoch= 30, loss= 0.1081\n",
      "epoch= 40, loss= 0.1077\n",
      "epoch= 50, loss= 0.1073\n",
      "epoch= 60, loss= 0.1069\n",
      "epoch= 70, loss= 0.1065\n",
      "epoch= 80, loss= 0.1061\n",
      "epoch= 90, loss= 0.1058\n",
      "epoch= 100, loss= 0.1054\n",
      "epoch= 110, loss= 0.1050\n",
      "epoch= 120, loss= 0.1047\n",
      "epoch= 130, loss= 0.1043\n",
      "epoch= 140, loss= 0.1040\n",
      "epoch= 150, loss= 0.1036\n",
      "epoch= 160, loss= 0.1033\n",
      "epoch= 170, loss= 0.1029\n",
      "epoch= 180, loss= 0.1026\n",
      "epoch= 190, loss= 0.1023\n",
      "epoch= 200, loss= 0.1020\n",
      "epoch= 210, loss= 0.1017\n",
      "epoch= 220, loss= 0.1014\n",
      "epoch= 230, loss= 0.1011\n",
      "epoch= 240, loss= 0.1008\n",
      "epoch= 250, loss= 0.1005\n",
      "epoch= 260, loss= 0.1002\n",
      "epoch= 270, loss= 0.0999\n",
      "epoch= 280, loss= 0.0996\n",
      "epoch= 290, loss= 0.0993\n",
      "epoch= 300, loss= 0.0991\n",
      "epoch= 310, loss= 0.0988\n",
      "epoch= 320, loss= 0.0985\n",
      "epoch= 330, loss= 0.0983\n",
      "epoch= 340, loss= 0.0980\n",
      "epoch= 350, loss= 0.0977\n",
      "epoch= 360, loss= 0.0975\n",
      "epoch= 370, loss= 0.0972\n",
      "epoch= 380, loss= 0.0970\n",
      "epoch= 390, loss= 0.0968\n",
      "epoch= 400, loss= 0.0965\n",
      "epoch= 410, loss= 0.0963\n",
      "epoch= 420, loss= 0.0960\n",
      "epoch= 430, loss= 0.0958\n",
      "epoch= 440, loss= 0.0956\n",
      "epoch= 450, loss= 0.0954\n",
      "epoch= 460, loss= 0.0951\n",
      "epoch= 470, loss= 0.0949\n",
      "epoch= 480, loss= 0.0947\n",
      "epoch= 490, loss= 0.0945\n",
      "epoch= 500, loss= 0.0943\n",
      "epoch= 510, loss= 0.0941\n",
      "epoch= 520, loss= 0.0938\n",
      "epoch= 530, loss= 0.0936\n",
      "epoch= 540, loss= 0.0934\n",
      "epoch= 550, loss= 0.0932\n",
      "epoch= 560, loss= 0.0930\n",
      "epoch= 570, loss= 0.0928\n",
      "epoch= 580, loss= 0.0926\n",
      "epoch= 590, loss= 0.0925\n",
      "epoch= 600, loss= 0.0923\n",
      "epoch= 610, loss= 0.0921\n",
      "epoch= 620, loss= 0.0919\n",
      "epoch= 630, loss= 0.0917\n",
      "epoch= 640, loss= 0.0915\n",
      "epoch= 650, loss= 0.0913\n",
      "epoch= 660, loss= 0.0912\n",
      "epoch= 670, loss= 0.0910\n",
      "epoch= 680, loss= 0.0908\n",
      "epoch= 690, loss= 0.0906\n",
      "epoch= 700, loss= 0.0905\n",
      "epoch= 710, loss= 0.0903\n",
      "epoch= 720, loss= 0.0901\n",
      "epoch= 730, loss= 0.0900\n",
      "epoch= 740, loss= 0.0898\n",
      "epoch= 750, loss= 0.0896\n",
      "epoch= 760, loss= 0.0895\n",
      "epoch= 770, loss= 0.0893\n",
      "epoch= 780, loss= 0.0892\n",
      "epoch= 790, loss= 0.0890\n",
      "epoch= 800, loss= 0.0888\n",
      "epoch= 810, loss= 0.0887\n",
      "epoch= 820, loss= 0.0885\n",
      "epoch= 830, loss= 0.0884\n",
      "epoch= 840, loss= 0.0882\n",
      "epoch= 850, loss= 0.0881\n",
      "epoch= 860, loss= 0.0879\n",
      "epoch= 870, loss= 0.0878\n",
      "epoch= 880, loss= 0.0876\n",
      "epoch= 890, loss= 0.0875\n",
      "epoch= 900, loss= 0.0874\n",
      "epoch= 910, loss= 0.0872\n",
      "epoch= 920, loss= 0.0871\n",
      "epoch= 930, loss= 0.0869\n",
      "epoch= 940, loss= 0.0868\n",
      "epoch= 950, loss= 0.0867\n",
      "epoch= 960, loss= 0.0865\n",
      "epoch= 970, loss= 0.0864\n",
      "epoch= 980, loss= 0.0863\n",
      "epoch= 990, loss= 0.0861\n"
     ]
    }
   ],
   "source": [
    "#Training loop\n",
    "\n",
    "num_epochs = 1000\n",
    "\n",
    "for epoch in range(num_epochs):\n",
    "    #forwad pass\n",
    "    y_predicted = model(X_train)\n",
    "    loss = criterion(y_predicted,y_train)\n",
    "    \n",
    "    #backward pass\n",
    "    loss.backward()\n",
    "    \n",
    "    #update\n",
    "    optimizer.step()\n",
    "    \n",
    "    #empty gradients\n",
    "    optimizer.zero_grad()\n",
    "    \n",
    "    if epoch %10 == 0:\n",
    "        print(f'epoch= {epoch}, loss= {loss.item():.4f}')"
   ]
  },
  {
   "cell_type": "code",
   "execution_count": 137,
   "id": "cb871b1f",
   "metadata": {},
   "outputs": [
    {
     "name": "stdout",
     "output_type": "stream",
     "text": [
      "acc = 0.9825\n"
     ]
    }
   ],
   "source": [
    "with torch.no_grad():\n",
    "    y_predicted = model(X_test)\n",
    "    y_predicted_classes = y_predicted.round()\n",
    "    \n",
    "    acc = y_predicted_classes.eq(y_test).sum() /float(y_test.shape[0])\n",
    "    print(f'acc = {acc:.4f}')"
   ]
  },
  {
   "cell_type": "code",
   "execution_count": null,
   "id": "02974b52",
   "metadata": {},
   "outputs": [],
   "source": []
  }
 ],
 "metadata": {
  "kernelspec": {
   "display_name": "Python 3 (ipykernel)",
   "language": "python",
   "name": "python3"
  },
  "language_info": {
   "codemirror_mode": {
    "name": "ipython",
    "version": 3
   },
   "file_extension": ".py",
   "mimetype": "text/x-python",
   "name": "python",
   "nbconvert_exporter": "python",
   "pygments_lexer": "ipython3",
   "version": "3.8.13"
  }
 },
 "nbformat": 4,
 "nbformat_minor": 5
}
